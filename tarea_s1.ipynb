{
 "cells": [
  {
   "cell_type": "markdown",
   "metadata": {},
   "source": [
    "# Trabajo autónomo del alumnado tutorizado (I)"
   ]
  },
  {
   "cell_type": "markdown",
   "metadata": {},
   "source": [
    "### Diseño, implementación, publicación y compartición de una serie de notebooks aplicados a una asignatura\n",
    "\n",
    "- Para ello la tarea se ha dividido en los siguientes puntos:\n",
    "\n",
    "1. Fase de diseño:\n",
    "  - ¿Cómo se pueden aplicar los notebooks a la asignatura?\n",
    "  - ¿Qué recursos interactivos se pueden embeber en los notebooks?\n",
    "  - ¿Qué ejemplos y ejercicios se pueden plantear?\n",
    "\n",
    "2. Instalación, configuración y puesta en marcha de Jupyter Notebook/Lab.\n",
    "\n",
    "3. Creación de un notebook básico:\n",
    "  - Celdas en markdown con apuntes y recursos online.\n",
    "  - Celdas de código Python con ejemplos.\n",
    "\n",
    "4. Almacenamiento del notebook en un repositorio.\n",
    "\n",
    "5. Publicación del notebook implementado con Binder."
   ]
  },
  {
   "cell_type": "markdown",
   "metadata": {},
   "source": [
    "### Se pide:\n",
    "\n",
    "Rellenar este notebook con las direcciones de los notebooks creados, repositorios Git y dirección Binder. Opcionalmente, adjuntarle capturas de pantallas.\n",
    "\n",
    "El notebook resultante se puede subir a la tarea del Aula Virtual"
   ]
  }
 ],
 "metadata": {
  "kernelspec": {
   "display_name": "Python 3 (ipykernel)",
   "language": "python",
   "name": "python3"
  },
  "language_info": {
   "codemirror_mode": {
    "name": "ipython",
    "version": 3
   },
   "file_extension": ".py",
   "mimetype": "text/x-python",
   "name": "python",
   "nbconvert_exporter": "python",
   "pygments_lexer": "ipython3",
   "version": "3.9.12"
  }
 },
 "nbformat": 4,
 "nbformat_minor": 4
}
